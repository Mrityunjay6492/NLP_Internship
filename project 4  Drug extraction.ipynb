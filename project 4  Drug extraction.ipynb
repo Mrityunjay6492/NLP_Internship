{
 "cells": [
  {
   "cell_type": "code",
   "execution_count": 1,
   "metadata": {
    "ExecuteTime": {
     "end_time": "2020-12-19T16:20:23.652611Z",
     "start_time": "2020-12-19T16:20:17.055325Z"
    }
   },
   "outputs": [],
   "source": [
    "from bs4 import BeautifulSoup as B\n",
    "from selenium import webdriver\n",
    "import pandas as pd\n",
    "import time\n",
    "from nltk.corpus import stopwords\n",
    "from nltk.stem import PorterStemmer\n",
    "from textblob import TextBlob\n",
    "import seaborn as sns\n",
    "import matplotlib.pyplot as plt\n",
    "websitelist=[]\n",
    "userlist=[]"
   ]
  },
  {
   "cell_type": "code",
   "execution_count": 2,
   "metadata": {
    "ExecuteTime": {
     "end_time": "2020-12-19T16:20:23.668117Z",
     "start_time": "2020-12-19T16:20:23.658640Z"
    }
   },
   "outputs": [],
   "source": [
    "#for Mozillza Firefox\n",
    "#download https://github.com/mozilla/geckodriver/releases\n",
    "# store this file in jyputer notebook location"
   ]
  },
  {
   "cell_type": "code",
   "execution_count": 4,
   "metadata": {
    "ExecuteTime": {
     "end_time": "2020-12-19T16:21:41.589782Z",
     "start_time": "2020-12-19T16:21:37.888871Z"
    }
   },
   "outputs": [],
   "source": [
    "driver=webdriver.Chrome()"
   ]
  },
  {
   "cell_type": "code",
   "execution_count": 5,
   "metadata": {
    "ExecuteTime": {
     "end_time": "2020-12-19T16:21:55.128818Z",
     "start_time": "2020-12-19T16:21:50.430255Z"
    }
   },
   "outputs": [],
   "source": [
    "url='https://www.webmd.com/drugs/2/index'\n",
    "driver.get(url)\n",
    "soup=B(driver.page_source,'html.parser')\n"
   ]
  },
  {
   "cell_type": "code",
   "execution_count": 6,
   "metadata": {
    "ExecuteTime": {
     "end_time": "2020-12-19T16:21:55.188675Z",
     "start_time": "2020-12-19T16:21:55.142635Z"
    }
   },
   "outputs": [],
   "source": [
    "link=soup.find_all('a',{'class':\"common-result-review\"})"
   ]
  },
  {
   "cell_type": "code",
   "execution_count": 7,
   "metadata": {
    "ExecuteTime": {
     "end_time": "2020-12-19T16:21:55.249165Z",
     "start_time": "2020-12-19T16:21:55.200098Z"
    }
   },
   "outputs": [
    {
     "data": {
      "text/plain": [
       "[<a class=\"common-result-review\" data-metrics-link=\"cmndrg-rev\" href=\"/drugs/drugreview-64439-abilify.aspx?drugid=64439&amp;drugname=abilify\">Read Reviews (1815)</a>,\n",
       " <a class=\"common-result-review\" data-metrics-link=\"cmndrg-rev\" href=\"/drugs/drugreview-17410-actos.aspx?drugid=17410&amp;drugname=actos\">Read Reviews (660)</a>,\n",
       " <a class=\"common-result-review\" data-metrics-link=\"cmndrg-rev\" href=\"/drugs/drugreview-941-acyclovir.aspx?drugid=941&amp;drugname=acyclovir\">Read Reviews (371)</a>,\n",
       " <a class=\"common-result-review\" data-metrics-link=\"cmndrg-rev\" href=\"/drugs/drugreview-63164-adderall-xr.aspx?drugid=63164&amp;drugname=adderall-xr\">Read Reviews (647)</a>,\n",
       " <a class=\"common-result-review\" data-metrics-link=\"cmndrg-rev\" href=\"/drugs/drugreview-8610-allopurinol.aspx?drugid=8610&amp;drugname=allopurinol\">Read Reviews (302)</a>,\n",
       " <a class=\"common-result-review\" data-metrics-link=\"cmndrg-rev\" href=\"/drugs/drugreview-9690-ambien.aspx?drugid=9690&amp;drugname=ambien\">Read Reviews (1478)</a>,\n",
       " <a class=\"common-result-review\" data-metrics-link=\"cmndrg-rev\" href=\"/drugs/drugreview-8611-amitriptyline-hcl.aspx?drugid=8611&amp;drugname=amitriptyline-hcl\">Read Reviews (1135)</a>,\n",
       " <a class=\"common-result-review\" data-metrics-link=\"cmndrg-rev\" href=\"/drugs/drugreview-1531-amoxicillin-tablet-multiphase-24-hr-tablet-er-hr.aspx?drugid=1531&amp;drugname=amoxicillin-tablet-multiphase-24-hr-tablet-er-hr\">Read Reviews (350)</a>,\n",
       " <a class=\"common-result-review\" data-metrics-link=\"cmndrg-rev\" href=\"/drugs/drugreview-11035-atenolol.aspx?drugid=11035&amp;drugname=atenolol\">Read Reviews (1268)</a>,\n",
       " <a class=\"common-result-review\" data-metrics-link=\"cmndrg-rev\" href=\"/drugs/drugreview-6685-ativan.aspx?drugid=6685&amp;drugname=ativan\">Read Reviews (1046)</a>,\n",
       " <a class=\"common-result-review\" data-metrics-link=\"cmndrg-rev\" href=\"/drugs/drugreview-1527-azithromycin.aspx?drugid=1527&amp;drugname=azithromycin\">Read Reviews (586)</a>,\n",
       " <a class=\"common-result-review\" data-metrics-link=\"cmndrg-rev\" href=\"/drugs/drugreview-8615-baclofen.aspx?drugid=8615&amp;drugname=baclofen\">Read Reviews (553)</a>,\n",
       " <a class=\"common-result-review\" data-metrics-link=\"cmndrg-rev\" href=\"/drugs/drugreview-5530-bactrim-ds.aspx?drugid=5530&amp;drugname=bactrim-ds\">Read Reviews (585)</a>,\n",
       " <a class=\"common-result-review\" data-metrics-link=\"cmndrg-rev\" href=\"/drugs/drugreview-5680-benadryl.aspx?drugid=5680&amp;drugname=benadryl\">Read Reviews (191)</a>,\n",
       " <a class=\"common-result-review\" data-metrics-link=\"cmndrg-rev\" href=\"/drugs/drugreview-14257-benzonatate.aspx?drugid=14257&amp;drugname=benzonatate\">Read Reviews (863)</a>,\n",
       " <a class=\"common-result-review\" data-metrics-link=\"cmndrg-rev\" href=\"/drugs/drugreview-13507-bupropion-xl.aspx?drugid=13507&amp;drugname=bupropion-xl\">Read Reviews (384)</a>,\n",
       " <a class=\"common-result-review\" data-metrics-link=\"cmndrg-rev\" href=\"/drugs/drugreview-8876-buspirone-hcl.aspx?drugid=8876&amp;drugname=buspirone-hcl\">Read Reviews (419)</a>,\n",
       " <a class=\"common-result-review\" data-metrics-link=\"cmndrg-rev\" href=\"/drugs/drugreview-149883-bystolic.aspx?drugid=149883&amp;drugname=bystolic\">Read Reviews (899)</a>,\n",
       " <a class=\"common-result-review\" data-metrics-link=\"cmndrg-rev\" href=\"/drugs/drugreview-16849-celebrex.aspx?drugid=16849&amp;drugname=celebrex\">Read Reviews (749)</a>,\n",
       " <a class=\"common-result-review\" data-metrics-link=\"cmndrg-rev\" href=\"/drugs/drugreview-8603-celexa.aspx?drugid=8603&amp;drugname=celexa\">Read Reviews (2223)</a>,\n",
       " <a class=\"common-result-review\" data-metrics-link=\"cmndrg-rev\" href=\"/drugs/drugreview-77881-cialis.aspx?drugid=77881&amp;drugname=cialis\">Read Reviews (429)</a>,\n",
       " <a class=\"common-result-review\" data-metrics-link=\"cmndrg-rev\" href=\"/drugs/drugreview-1124-cipro.aspx?drugid=1124&amp;drugname=cipro\">Read Reviews (631)</a>,\n",
       " <a class=\"common-result-review\" data-metrics-link=\"cmndrg-rev\" href=\"/drugs/drugreview-1701-citalopram-hbr.aspx?drugid=1701&amp;drugname=citalopram-hbr\">Read Reviews (1593)</a>,\n",
       " <a class=\"common-result-review\" data-metrics-link=\"cmndrg-rev\" href=\"/drugs/drugreview-12235-clindamycin-hcl.aspx?drugid=12235&amp;drugname=clindamycin-hcl\">Read Reviews (810)</a>,\n",
       " <a class=\"common-result-review\" data-metrics-link=\"cmndrg-rev\" href=\"/drugs/drugreview-14403-clonazepam.aspx?drugid=14403&amp;drugname=clonazepam\">Read Reviews (1114)</a>,\n",
       " <a class=\"common-result-review\" data-metrics-link=\"cmndrg-rev\" href=\"/drugs/drugreview-19857-concerta.aspx?drugid=19857&amp;drugname=concerta\">Read Reviews (716)</a>,\n",
       " <a class=\"common-result-review\" data-metrics-link=\"cmndrg-rev\" href=\"/drugs/drugreview-4069-coumadin.aspx?drugid=4069&amp;drugname=coumadin\">Read Reviews (626)</a>,\n",
       " <a class=\"common-result-review\" data-metrics-link=\"cmndrg-rev\" href=\"/drugs/drugreview-76704-crestor.aspx?drugid=76704&amp;drugname=crestor\">Read Reviews (774)</a>,\n",
       " <a class=\"common-result-review\" data-metrics-link=\"cmndrg-rev\" href=\"/drugs/drugreview-8888-cyclobenzaprine-hcl-er.aspx?drugid=8888&amp;drugname=cyclobenzaprine-hcl-er\">Read Reviews (482)</a>,\n",
       " <a class=\"common-result-review\" data-metrics-link=\"cmndrg-rev\" href=\"/drugs/drugreview-91491-cymbalta.aspx?drugid=91491&amp;drugname=cymbalta\">Read Reviews (4663)</a>,\n",
       " <a class=\"common-result-review\" data-metrics-link=\"cmndrg-rev\" href=\"/drugs/drugreview-1788-depakote.aspx?drugid=1788&amp;drugname=depakote\">Read Reviews (737)</a>,\n",
       " <a class=\"common-result-review\" data-metrics-link=\"cmndrg-rev\" href=\"/drugs/drugreview-153875-dexilant.aspx?drugid=153875&amp;drugname=dexilant\">Read Reviews (449)</a>,\n",
       " <a class=\"common-result-review\" data-metrics-link=\"cmndrg-rev\" href=\"/drugs/drugreview-5247-dicyclomine-hcl.aspx?drugid=5247&amp;drugname=dicyclomine-hcl\">Read Reviews (222)</a>,\n",
       " <a class=\"common-result-review\" data-metrics-link=\"cmndrg-rev\" href=\"/drugs/drugreview-9130-dilaudid.aspx?drugid=9130&amp;drugname=dilaudid\">Read Reviews (565)</a>,\n",
       " <a class=\"common-result-review\" data-metrics-link=\"cmndrg-rev\" href=\"/drugs/drugreview-14449-doxycycline-calcium-syrup.aspx?drugid=14449&amp;drugname=doxycycline-calcium-syrup\">Read Reviews (203)</a>,\n",
       " <a class=\"common-result-review\" data-metrics-link=\"cmndrg-rev\" href=\"/drugs/drugreview-4896-effexor-xr.aspx?drugid=4896&amp;drugname=effexor-xr\">Read Reviews (3500)</a>,\n",
       " <a class=\"common-result-review\" data-metrics-link=\"cmndrg-rev\" href=\"/drugs/drugreview-176179-emgality-pen-injector.aspx?drugid=176179&amp;drugname=emgality-pen-injector\">Read Reviews (63)</a>,\n",
       " <a class=\"common-result-review\" data-metrics-link=\"cmndrg-rev\" href=\"/drugs/drugreview-7644-flagyl.aspx?drugid=7644&amp;drugname=flagyl\">Read Reviews (569)</a>,\n",
       " <a class=\"common-result-review\" data-metrics-link=\"cmndrg-rev\" href=\"/drugs/drugreview-14208-gabapentin-tablet-er-24-hr.aspx?drugid=14208&amp;drugname=gabapentin-tablet-er-24-hr\">Read Reviews (1825)</a>,\n",
       " <a class=\"common-result-review\" data-metrics-link=\"cmndrg-rev\" href=\"/drugs/drugreview-5310-hydrochlorothiazide.aspx?drugid=5310&amp;drugname=hydrochlorothiazide\">Read Reviews (860)</a>,\n",
       " <a class=\"common-result-review\" data-metrics-link=\"cmndrg-rev\" href=\"/drugs/drugreview-251-hydrocodone-acetaminophen.aspx?drugid=251&amp;drugname=hydrocodone-acetaminophen\">Read Reviews (3954)</a>,\n",
       " <a class=\"common-result-review\" data-metrics-link=\"cmndrg-rev\" href=\"/drugs/drugreview-7681-hydroxyzine-hcl.aspx?drugid=7681&amp;drugname=hydroxyzine-hcl\">Read Reviews (632)</a>,\n",
       " <a class=\"common-result-review\" data-metrics-link=\"cmndrg-rev\" href=\"/drugs/drugreview-5166-ibuprofen-tablet-chewable.aspx?drugid=5166&amp;drugname=ibuprofen-tablet-chewable\">Read Reviews (272)</a>,\n",
       " <a class=\"common-result-review\" data-metrics-link=\"cmndrg-rev\" href=\"/drugs/drugreview-6859-keflex.aspx?drugid=6859&amp;drugname=keflex\">Read Reviews (262)</a>,\n",
       " <a class=\"common-result-review\" data-metrics-link=\"cmndrg-rev\" href=\"/drugs/drugreview-18053-keppra.aspx?drugid=18053&amp;drugname=keppra\">Read Reviews (694)</a>,\n",
       " <a class=\"common-result-review\" data-metrics-link=\"cmndrg-rev\" href=\"/drugs/drugreview-14492-levaquin.aspx?drugid=14492&amp;drugname=levaquin\">Read Reviews (1003)</a>,\n",
       " <a class=\"common-result-review\" data-metrics-link=\"cmndrg-rev\" href=\"/drugs/drugreview-1433-levothyroxine-sodium.aspx?drugid=1433&amp;drugname=levothyroxine-sodium\">Read Reviews (1091)</a>,\n",
       " <a class=\"common-result-review\" data-metrics-link=\"cmndrg-rev\" href=\"/drugs/drugreview-63990-lexapro.aspx?drugid=63990&amp;drugname=lexapro\">Read Reviews (4146)</a>,\n",
       " <a class=\"common-result-review\" data-metrics-link=\"cmndrg-rev\" href=\"/drugs/drugreview-3330-lipitor.aspx?drugid=3330&amp;drugname=lipitor\">Read Reviews (998)</a>,\n",
       " <a class=\"common-result-review\" data-metrics-link=\"cmndrg-rev\" href=\"/drugs/drugreview-6873-lisinopril.aspx?drugid=6873&amp;drugname=lisinopril\">Read Reviews (4278)</a>,\n",
       " <a class=\"common-result-review\" data-metrics-link=\"cmndrg-rev\" href=\"/drugs/drugreview-8892-lorazepam.aspx?drugid=8892&amp;drugname=lorazepam\">Read Reviews (608)</a>,\n",
       " <a class=\"common-result-review\" data-metrics-link=\"cmndrg-rev\" href=\"/drugs/drugreview-6616-losartan-potassium.aspx?drugid=6616&amp;drugname=losartan-potassium\">Read Reviews (611)</a>,\n",
       " <a class=\"common-result-review\" data-metrics-link=\"cmndrg-rev\" href=\"/drugs/drugreview-93965-lyrica.aspx?drugid=93965&amp;drugname=lyrica\">Read Reviews (3073)</a>,\n",
       " <a class=\"common-result-review\" data-metrics-link=\"cmndrg-rev\" href=\"/drugs/drugreview-14376-macrobid.aspx?drugid=14376&amp;drugname=macrobid\">Read Reviews (599)</a>,\n",
       " <a class=\"common-result-review\" data-metrics-link=\"cmndrg-rev\" href=\"/drugs/drugreview-911-meloxicam.aspx?drugid=911&amp;drugname=meloxicam\">Read Reviews (906)</a>,\n",
       " <a class=\"common-result-review\" data-metrics-link=\"cmndrg-rev\" href=\"/drugs/drugreview-2671-methadone-hcl.aspx?drugid=2671&amp;drugname=methadone-hcl\">Read Reviews (1138)</a>,\n",
       " <a class=\"common-result-review\" data-metrics-link=\"cmndrg-rev\" href=\"/drugs/drugreview-8677-methocarbamol.aspx?drugid=8677&amp;drugname=methocarbamol\">Read Reviews (390)</a>,\n",
       " <a class=\"common-result-review\" data-metrics-link=\"cmndrg-rev\" href=\"/drugs/drugreview-6470-methylprednisolone.aspx?drugid=6470&amp;drugname=methylprednisolone\">Read Reviews (590)</a>,\n",
       " <a class=\"common-result-review\" data-metrics-link=\"cmndrg-rev\" href=\"/drugs/drugreview-6426-metronidazole.aspx?drugid=6426&amp;drugname=metronidazole\">Read Reviews (654)</a>,\n",
       " <a class=\"common-result-review\" data-metrics-link=\"cmndrg-rev\" href=\"/drugs/drugreview-18173-mobic.aspx?drugid=18173&amp;drugname=mobic\">Read Reviews (734)</a>,\n",
       " <a class=\"common-result-review\" data-metrics-link=\"cmndrg-rev\" href=\"/drugs/drugreview-327-morphine-sulfate-er.aspx?drugid=327&amp;drugname=morphine-sulfate-er\">Read Reviews (507)</a>,\n",
       " <a class=\"common-result-review\" data-metrics-link=\"cmndrg-rev\" href=\"/drugs/drugreview-7005-nabumetone.aspx?drugid=7005&amp;drugname=nabumetone\">Read Reviews (253)</a>,\n",
       " <a class=\"common-result-review\" data-metrics-link=\"cmndrg-rev\" href=\"/drugs/drugreview-77936-namenda.aspx?drugid=77936&amp;drugname=namenda\">Read Reviews (187)</a>,\n",
       " <a class=\"common-result-review\" data-metrics-link=\"cmndrg-rev\" href=\"/drugs/drugreview-9845-neurontin.aspx?drugid=9845&amp;drugname=neurontin\">Read Reviews (2080)</a>,\n",
       " <a class=\"common-result-review\" data-metrics-link=\"cmndrg-rev\" href=\"/drugs/drugreview-10710-nortriptyline-hcl.aspx?drugid=10710&amp;drugname=nortriptyline-hcl\">Read Reviews (456)</a>,\n",
       " <a class=\"common-result-review\" data-metrics-link=\"cmndrg-rev\" href=\"/drugs/drugreview-2798-oxycontin.aspx?drugid=2798&amp;drugname=oxycontin\">Read Reviews (1484)</a>,\n",
       " <a class=\"common-result-review\" data-metrics-link=\"cmndrg-rev\" href=\"/drugs/drugreview-17633-pantoprazole-sodium.aspx?drugid=17633&amp;drugname=pantoprazole-sodium\">Read Reviews (245)</a>,\n",
       " <a class=\"common-result-review\" data-metrics-link=\"cmndrg-rev\" href=\"/drugs/drugreview-7277-percocet.aspx?drugid=7277&amp;drugname=percocet\">Read Reviews (1541)</a>,\n",
       " <a class=\"common-result-review\" data-metrics-link=\"cmndrg-rev\" href=\"/drugs/drugreview-4151-phentermine-hcl.aspx?drugid=4151&amp;drugname=phentermine-hcl\">Read Reviews (2370)</a>,\n",
       " <a class=\"common-result-review\" data-metrics-link=\"cmndrg-rev\" href=\"/drugs/drugreview-6986-plaquenil.aspx?drugid=6986&amp;drugname=plaquenil\">Read Reviews (588)</a>,\n",
       " <a class=\"common-result-review\" data-metrics-link=\"cmndrg-rev\" href=\"/drugs/drugreview-5869-plavix.aspx?drugid=5869&amp;drugname=plavix\">Read Reviews (1070)</a>,\n",
       " <a class=\"common-result-review\" data-metrics-link=\"cmndrg-rev\" href=\"/drugs/drugreview-154839-pradaxa.aspx?drugid=154839&amp;drugname=pradaxa\">Read Reviews (243)</a>,\n",
       " <a class=\"common-result-review\" data-metrics-link=\"cmndrg-rev\" href=\"/drugs/drugreview-6989-pravastatin-sodium.aspx?drugid=6989&amp;drugname=pravastatin-sodium\">Read Reviews (537)</a>,\n",
       " <a class=\"common-result-review\" data-metrics-link=\"cmndrg-rev\" href=\"/drugs/drugreview-6007-prednisone-tablet-delayed-release-enteric-coated.aspx?drugid=6007&amp;drugname=prednisone-tablet-delayed-release-enteric-coated\">Read Reviews (2577)</a>,\n",
       " <a class=\"common-result-review\" data-metrics-link=\"cmndrg-rev\" href=\"/drugs/drugreview-77588-prilosec-otc.aspx?drugid=77588&amp;drugname=prilosec-otc\">Read Reviews (180)</a>,\n",
       " <a class=\"common-result-review\" data-metrics-link=\"cmndrg-rev\" href=\"/drugs/drugreview-8895-promethazine-hcl.aspx?drugid=8895&amp;drugname=promethazine-hcl\">Read Reviews (241)</a>,\n",
       " <a class=\"common-result-review\" data-metrics-link=\"cmndrg-rev\" href=\"/drugs/drugreview-18142-protonix.aspx?drugid=18142&amp;drugname=protonix\">Read Reviews (368)</a>,\n",
       " <a class=\"common-result-review\" data-metrics-link=\"cmndrg-rev\" href=\"/drugs/drugreview-6997-prozac-capsule.aspx?drugid=6997&amp;drugname=prozac-capsule\">Read Reviews (1720)</a>,\n",
       " <a class=\"common-result-review\" data-metrics-link=\"cmndrg-rev\" href=\"/drugs/drugreview-9846-risperdal.aspx?drugid=9846&amp;drugname=risperdal\">Read Reviews (458)</a>,\n",
       " <a class=\"common-result-review\" data-metrics-link=\"cmndrg-rev\" href=\"/drugs/drugreview-9475-ritalin.aspx?drugid=9475&amp;drugname=ritalin\">Read Reviews (311)</a>,\n",
       " <a class=\"common-result-review\" data-metrics-link=\"cmndrg-rev\" href=\"/drugs/drugreview-152224-savella.aspx?drugid=152224&amp;drugname=savella\">Read Reviews (916)</a>,\n",
       " <a class=\"common-result-review\" data-metrics-link=\"cmndrg-rev\" href=\"/drugs/drugreview-4718-seroquel.aspx?drugid=4718&amp;drugname=seroquel\">Read Reviews (2453)</a>,\n",
       " <a class=\"common-result-review\" data-metrics-link=\"cmndrg-rev\" href=\"/drugs/drugreview-6105-simvastatin.aspx?drugid=6105&amp;drugname=simvastatin\">Read Reviews (1030)</a>,\n",
       " <a class=\"common-result-review\" data-metrics-link=\"cmndrg-rev\" href=\"/drugs/drugreview-7033-synthroid.aspx?drugid=7033&amp;drugname=synthroid\">Read Reviews (1097)</a>,\n",
       " <a class=\"common-result-review\" data-metrics-link=\"cmndrg-rev\" href=\"/drugs/drugreview-9548-toprol-xl.aspx?drugid=9548&amp;drugname=toprol-xl\">Read Reviews (648)</a>,\n",
       " <a class=\"common-result-review\" data-metrics-link=\"cmndrg-rev\" href=\"/drugs/drugreview-4398-tramadol-hcl-er.aspx?drugid=4398&amp;drugname=tramadol-hcl-er\">Read Reviews (2937)</a>,\n",
       " <a class=\"common-result-review\" data-metrics-link=\"cmndrg-rev\" href=\"/drugs/drugreview-11188-trazodone-hcl.aspx?drugid=11188&amp;drugname=trazodone-hcl\">Read Reviews (2105)</a>,\n",
       " <a class=\"common-result-review\" data-metrics-link=\"cmndrg-rev\" href=\"/drugs/drugreview-167025-trulicity-pen-injector.aspx?drugid=167025&amp;drugname=trulicity-pen-injector\">Read Reviews (145)</a>,\n",
       " <a class=\"common-result-review\" data-metrics-link=\"cmndrg-rev\" href=\"/drugs/drugreview-11116-valium.aspx?drugid=11116&amp;drugname=valium\">Read Reviews (331)</a>,\n",
       " <a class=\"common-result-review\" data-metrics-link=\"cmndrg-rev\" href=\"/drugs/drugreview-14126-valtrex.aspx?drugid=14126&amp;drugname=valtrex\">Read Reviews (683)</a>,\n",
       " <a class=\"common-result-review\" data-metrics-link=\"cmndrg-rev\" href=\"/drugs/drugreview-15915-vicodin-es.aspx?drugid=15915&amp;drugname=vicodin-es\">Read Reviews (212)</a>,\n",
       " <a class=\"common-result-review\" data-metrics-link=\"cmndrg-rev\" href=\"/drugs/drugreview-163054-victoza-2-pak-pen-injector.aspx?drugid=163054&amp;drugname=victoza-2-pak-pen-injector\">Read Reviews (55)</a>,\n",
       " <a class=\"common-result-review\" data-metrics-link=\"cmndrg-rev\" href=\"/drugs/drugreview-148324-vyvanse.aspx?drugid=148324&amp;drugname=vyvanse\">Read Reviews (1387)</a>,\n",
       " <a class=\"common-result-review\" data-metrics-link=\"cmndrg-rev\" href=\"/drugs/drugreview-76851-wellbutrin-xl.aspx?drugid=76851&amp;drugname=wellbutrin-xl\">Read Reviews (1679)</a>,\n",
       " <a class=\"common-result-review\" data-metrics-link=\"cmndrg-rev\" href=\"/drugs/drugreview-9824-xanax.aspx?drugid=9824&amp;drugname=xanax\">Read Reviews (2960)</a>,\n",
       " <a class=\"common-result-review\" data-metrics-link=\"cmndrg-rev\" href=\"/drugs/drugreview-30-zofran.aspx?drugid=30&amp;drugname=zofran\">Read Reviews (161)</a>]"
      ]
     },
     "execution_count": 7,
     "metadata": {},
     "output_type": "execute_result"
    }
   ],
   "source": [
    "link"
   ]
  },
  {
   "cell_type": "code",
   "execution_count": 8,
   "metadata": {
    "ExecuteTime": {
     "end_time": "2020-12-19T16:21:55.295738Z",
     "start_time": "2020-12-19T16:21:55.257964Z"
    }
   },
   "outputs": [],
   "source": [
    "for l in link:\n",
    "    a=l.get('href')\n",
    "    websitelist.append(a)\n",
    "\n",
    "web=pd.DataFrame(websitelist,columns=['website'])"
   ]
  },
  {
   "cell_type": "code",
   "execution_count": 9,
   "metadata": {
    "ExecuteTime": {
     "end_time": "2020-12-19T16:21:55.372552Z",
     "start_time": "2020-12-19T16:21:55.308293Z"
    }
   },
   "outputs": [],
   "source": [
    "web['website']='https://www.webmd.com/'+web['website']"
   ]
  },
  {
   "cell_type": "code",
   "execution_count": 10,
   "metadata": {
    "ExecuteTime": {
     "end_time": "2020-12-19T16:21:55.415665Z",
     "start_time": "2020-12-19T16:21:55.378533Z"
    }
   },
   "outputs": [
    {
     "data": {
      "text/plain": [
       "0     https://www.webmd.com//drugs/drugreview-64439-...\n",
       "1     https://www.webmd.com//drugs/drugreview-17410-...\n",
       "2     https://www.webmd.com//drugs/drugreview-941-ac...\n",
       "3     https://www.webmd.com//drugs/drugreview-63164-...\n",
       "4     https://www.webmd.com//drugs/drugreview-8610-a...\n",
       "                            ...                        \n",
       "91    https://www.webmd.com//drugs/drugreview-163054...\n",
       "92    https://www.webmd.com//drugs/drugreview-148324...\n",
       "93    https://www.webmd.com//drugs/drugreview-76851-...\n",
       "94    https://www.webmd.com//drugs/drugreview-9824-x...\n",
       "95    https://www.webmd.com//drugs/drugreview-30-zof...\n",
       "Name: website, Length: 96, dtype: object"
      ]
     },
     "execution_count": 10,
     "metadata": {},
     "output_type": "execute_result"
    }
   ],
   "source": [
    "web.website[:]"
   ]
  },
  {
   "cell_type": "code",
   "execution_count": 11,
   "metadata": {
    "ExecuteTime": {
     "end_time": "2020-12-19T16:21:55.474859Z",
     "start_time": "2020-12-19T16:21:55.434818Z"
    }
   },
   "outputs": [],
   "source": [
    "def get_review(soup):\n",
    "    reviews=soup.find_all('div',{'class':'userPost'})\n",
    "    m=1\n",
    "    for item in reviews:\n",
    "        \n",
    "        review={\n",
    "        'Medicine':soup.title.text.replace('Reviews and User Ratings: Effectiveness, Ease of Use, and Satisfaction','').strip(),\n",
    "        'Date':item.find('div',{'class':'date'}).text.strip(),\n",
    "        'Condition':item.find('div',{'class':'conditionInfo'}).text.strip(),\n",
    "        'Effectiveness':[float(i) for i in item.find('div',{'class':\"catRatings firstEl clearfix\"}).get_text().strip() if i.isdigit()],\n",
    "        'EaseofUse':[float(i) for i in item.find('div',{'class':\"catRatings clearfix\"}).get_text().strip() if i.isdigit()],\n",
    "        'Satisfaction':[float(i) for i in item.find('div',{'class':\"catRatings lastEl clearfix\"}).get_text().strip() if i.isdigit()],\n",
    "        'Review':item.find('p',{'id':'comFull{}'.format(m)}).text.replace('Hide Full Comment','').replace('Comment:','').replace('\\n','')\n",
    "        }\n",
    "        userlist.append(review)\n",
    "        m=m+1"
   ]
  },
  {
   "cell_type": "code",
   "execution_count": 12,
   "metadata": {
    "ExecuteTime": {
     "end_time": "2020-12-19T16:21:55.520316Z",
     "start_time": "2020-12-19T16:21:55.485003Z"
    }
   },
   "outputs": [],
   "source": [
    "def page_review(site,j):\n",
    "    url=site\n",
    "    i=1\n",
    "    k=1\n",
    "    while i==1:\n",
    "        driver.get(url) \n",
    "        if k==1:\n",
    "            driver.find_element_by_xpath(\"//select[@id='conditionFilter']/option[@value='-1']\").click()\n",
    "        soupp=B(driver.page_source,'html.parser')\n",
    "        get_review(soupp)\n",
    "        link=soupp.find_all('a',{'onclick':\"ctrs('dr-pagenum_next')\"})\n",
    "        print('Medicine',j,' :page',k)\n",
    "        #time.sleep(5)\n",
    "\n",
    "        if not link:\n",
    "            i=0\n",
    "            \n",
    "        else:\n",
    "            a=link[0].get('href')\n",
    "            url='https://www.webmd.com/'+a\n",
    "            k=k+1\n",
    "           \n",
    "    "
   ]
  },
  {
   "cell_type": "code",
   "execution_count": 13,
   "metadata": {
    "ExecuteTime": {
     "end_time": "2020-12-19T16:21:55.552118Z",
     "start_time": "2020-12-19T16:21:55.527529Z"
    },
    "code_folding": []
   },
   "outputs": [],
   "source": [
    "def website_main(data):\n",
    "    j=1\n",
    "    for site in data.website[1:]:\n",
    "        page_review(site,j)\n",
    "        j=j+1\n",
    "    \n",
    "    "
   ]
  },
  {
   "cell_type": "code",
   "execution_count": 16,
   "metadata": {
    "ExecuteTime": {
     "end_time": "2020-12-19T16:23:49.739482Z",
     "start_time": "2020-12-19T16:23:12.802727Z"
    }
   },
   "outputs": [
    {
     "name": "stdout",
     "output_type": "stream",
     "text": [
      "Medicine 1  :page 1\n",
      "Medicine 1  :page 2\n",
      "Medicine 1  :page 3\n",
      "Medicine 1  :page 4\n",
      "Medicine 1  :page 5\n"
     ]
    },
    {
     "ename": "KeyboardInterrupt",
     "evalue": "",
     "output_type": "error",
     "traceback": [
      "\u001b[1;31m---------------------------------------------------------------------------\u001b[0m",
      "\u001b[1;31mKeyboardInterrupt\u001b[0m                         Traceback (most recent call last)",
      "\u001b[1;32m<ipython-input-16-32804fdc5197>\u001b[0m in \u001b[0;36m<module>\u001b[1;34m\u001b[0m\n\u001b[0;32m      1\u001b[0m \u001b[0muserlist\u001b[0m\u001b[1;33m=\u001b[0m\u001b[1;33m[\u001b[0m\u001b[1;33m]\u001b[0m\u001b[1;33m\u001b[0m\u001b[1;33m\u001b[0m\u001b[0m\n\u001b[1;32m----> 2\u001b[1;33m \u001b[0mwebsite_main\u001b[0m\u001b[1;33m(\u001b[0m\u001b[0mweb\u001b[0m\u001b[1;33m)\u001b[0m\u001b[1;33m\u001b[0m\u001b[1;33m\u001b[0m\u001b[0m\n\u001b[0m",
      "\u001b[1;32m<ipython-input-13-2e3954a18183>\u001b[0m in \u001b[0;36mwebsite_main\u001b[1;34m(data)\u001b[0m\n\u001b[0;32m      2\u001b[0m     \u001b[0mj\u001b[0m\u001b[1;33m=\u001b[0m\u001b[1;36m1\u001b[0m\u001b[1;33m\u001b[0m\u001b[1;33m\u001b[0m\u001b[0m\n\u001b[0;32m      3\u001b[0m     \u001b[1;32mfor\u001b[0m \u001b[0msite\u001b[0m \u001b[1;32min\u001b[0m \u001b[0mdata\u001b[0m\u001b[1;33m.\u001b[0m\u001b[0mwebsite\u001b[0m\u001b[1;33m[\u001b[0m\u001b[1;36m1\u001b[0m\u001b[1;33m:\u001b[0m\u001b[1;33m]\u001b[0m\u001b[1;33m:\u001b[0m\u001b[1;33m\u001b[0m\u001b[1;33m\u001b[0m\u001b[0m\n\u001b[1;32m----> 4\u001b[1;33m         \u001b[0mpage_review\u001b[0m\u001b[1;33m(\u001b[0m\u001b[0msite\u001b[0m\u001b[1;33m,\u001b[0m\u001b[0mj\u001b[0m\u001b[1;33m)\u001b[0m\u001b[1;33m\u001b[0m\u001b[1;33m\u001b[0m\u001b[0m\n\u001b[0m\u001b[0;32m      5\u001b[0m         \u001b[0mj\u001b[0m\u001b[1;33m=\u001b[0m\u001b[0mj\u001b[0m\u001b[1;33m+\u001b[0m\u001b[1;36m1\u001b[0m\u001b[1;33m\u001b[0m\u001b[1;33m\u001b[0m\u001b[0m\n\u001b[0;32m      6\u001b[0m \u001b[1;33m\u001b[0m\u001b[0m\n",
      "\u001b[1;32m<ipython-input-12-48105b60b477>\u001b[0m in \u001b[0;36mpage_review\u001b[1;34m(site, j)\u001b[0m\n\u001b[0;32m      4\u001b[0m     \u001b[0mk\u001b[0m\u001b[1;33m=\u001b[0m\u001b[1;36m1\u001b[0m\u001b[1;33m\u001b[0m\u001b[1;33m\u001b[0m\u001b[0m\n\u001b[0;32m      5\u001b[0m     \u001b[1;32mwhile\u001b[0m \u001b[0mi\u001b[0m\u001b[1;33m==\u001b[0m\u001b[1;36m1\u001b[0m\u001b[1;33m:\u001b[0m\u001b[1;33m\u001b[0m\u001b[1;33m\u001b[0m\u001b[0m\n\u001b[1;32m----> 6\u001b[1;33m         \u001b[0mdriver\u001b[0m\u001b[1;33m.\u001b[0m\u001b[0mget\u001b[0m\u001b[1;33m(\u001b[0m\u001b[0murl\u001b[0m\u001b[1;33m)\u001b[0m\u001b[1;33m\u001b[0m\u001b[1;33m\u001b[0m\u001b[0m\n\u001b[0m\u001b[0;32m      7\u001b[0m         \u001b[1;32mif\u001b[0m \u001b[0mk\u001b[0m\u001b[1;33m==\u001b[0m\u001b[1;36m1\u001b[0m\u001b[1;33m:\u001b[0m\u001b[1;33m\u001b[0m\u001b[1;33m\u001b[0m\u001b[0m\n\u001b[0;32m      8\u001b[0m             \u001b[0mdriver\u001b[0m\u001b[1;33m.\u001b[0m\u001b[0mfind_element_by_xpath\u001b[0m\u001b[1;33m(\u001b[0m\u001b[1;34m\"//select[@id='conditionFilter']/option[@value='-1']\"\u001b[0m\u001b[1;33m)\u001b[0m\u001b[1;33m.\u001b[0m\u001b[0mclick\u001b[0m\u001b[1;33m(\u001b[0m\u001b[1;33m)\u001b[0m\u001b[1;33m\u001b[0m\u001b[1;33m\u001b[0m\u001b[0m\n",
      "\u001b[1;32m~\\anaconda3\\lib\\site-packages\\selenium\\webdriver\\remote\\webdriver.py\u001b[0m in \u001b[0;36mget\u001b[1;34m(self, url)\u001b[0m\n\u001b[0;32m    331\u001b[0m         \u001b[0mLoads\u001b[0m \u001b[0ma\u001b[0m \u001b[0mweb\u001b[0m \u001b[0mpage\u001b[0m \u001b[1;32min\u001b[0m \u001b[0mthe\u001b[0m \u001b[0mcurrent\u001b[0m \u001b[0mbrowser\u001b[0m \u001b[0msession\u001b[0m\u001b[1;33m.\u001b[0m\u001b[1;33m\u001b[0m\u001b[1;33m\u001b[0m\u001b[0m\n\u001b[0;32m    332\u001b[0m         \"\"\"\n\u001b[1;32m--> 333\u001b[1;33m         \u001b[0mself\u001b[0m\u001b[1;33m.\u001b[0m\u001b[0mexecute\u001b[0m\u001b[1;33m(\u001b[0m\u001b[0mCommand\u001b[0m\u001b[1;33m.\u001b[0m\u001b[0mGET\u001b[0m\u001b[1;33m,\u001b[0m \u001b[1;33m{\u001b[0m\u001b[1;34m'url'\u001b[0m\u001b[1;33m:\u001b[0m \u001b[0murl\u001b[0m\u001b[1;33m}\u001b[0m\u001b[1;33m)\u001b[0m\u001b[1;33m\u001b[0m\u001b[1;33m\u001b[0m\u001b[0m\n\u001b[0m\u001b[0;32m    334\u001b[0m \u001b[1;33m\u001b[0m\u001b[0m\n\u001b[0;32m    335\u001b[0m     \u001b[1;33m@\u001b[0m\u001b[0mproperty\u001b[0m\u001b[1;33m\u001b[0m\u001b[1;33m\u001b[0m\u001b[0m\n",
      "\u001b[1;32m~\\anaconda3\\lib\\site-packages\\selenium\\webdriver\\remote\\webdriver.py\u001b[0m in \u001b[0;36mexecute\u001b[1;34m(self, driver_command, params)\u001b[0m\n\u001b[0;32m    317\u001b[0m \u001b[1;33m\u001b[0m\u001b[0m\n\u001b[0;32m    318\u001b[0m         \u001b[0mparams\u001b[0m \u001b[1;33m=\u001b[0m \u001b[0mself\u001b[0m\u001b[1;33m.\u001b[0m\u001b[0m_wrap_value\u001b[0m\u001b[1;33m(\u001b[0m\u001b[0mparams\u001b[0m\u001b[1;33m)\u001b[0m\u001b[1;33m\u001b[0m\u001b[1;33m\u001b[0m\u001b[0m\n\u001b[1;32m--> 319\u001b[1;33m         \u001b[0mresponse\u001b[0m \u001b[1;33m=\u001b[0m \u001b[0mself\u001b[0m\u001b[1;33m.\u001b[0m\u001b[0mcommand_executor\u001b[0m\u001b[1;33m.\u001b[0m\u001b[0mexecute\u001b[0m\u001b[1;33m(\u001b[0m\u001b[0mdriver_command\u001b[0m\u001b[1;33m,\u001b[0m \u001b[0mparams\u001b[0m\u001b[1;33m)\u001b[0m\u001b[1;33m\u001b[0m\u001b[1;33m\u001b[0m\u001b[0m\n\u001b[0m\u001b[0;32m    320\u001b[0m         \u001b[1;32mif\u001b[0m \u001b[0mresponse\u001b[0m\u001b[1;33m:\u001b[0m\u001b[1;33m\u001b[0m\u001b[1;33m\u001b[0m\u001b[0m\n\u001b[0;32m    321\u001b[0m             \u001b[0mself\u001b[0m\u001b[1;33m.\u001b[0m\u001b[0merror_handler\u001b[0m\u001b[1;33m.\u001b[0m\u001b[0mcheck_response\u001b[0m\u001b[1;33m(\u001b[0m\u001b[0mresponse\u001b[0m\u001b[1;33m)\u001b[0m\u001b[1;33m\u001b[0m\u001b[1;33m\u001b[0m\u001b[0m\n",
      "\u001b[1;32m~\\anaconda3\\lib\\site-packages\\selenium\\webdriver\\remote\\remote_connection.py\u001b[0m in \u001b[0;36mexecute\u001b[1;34m(self, command, params)\u001b[0m\n\u001b[0;32m    372\u001b[0m         \u001b[0mdata\u001b[0m \u001b[1;33m=\u001b[0m \u001b[0mutils\u001b[0m\u001b[1;33m.\u001b[0m\u001b[0mdump_json\u001b[0m\u001b[1;33m(\u001b[0m\u001b[0mparams\u001b[0m\u001b[1;33m)\u001b[0m\u001b[1;33m\u001b[0m\u001b[1;33m\u001b[0m\u001b[0m\n\u001b[0;32m    373\u001b[0m         \u001b[0murl\u001b[0m \u001b[1;33m=\u001b[0m \u001b[1;34m'%s%s'\u001b[0m \u001b[1;33m%\u001b[0m \u001b[1;33m(\u001b[0m\u001b[0mself\u001b[0m\u001b[1;33m.\u001b[0m\u001b[0m_url\u001b[0m\u001b[1;33m,\u001b[0m \u001b[0mpath\u001b[0m\u001b[1;33m)\u001b[0m\u001b[1;33m\u001b[0m\u001b[1;33m\u001b[0m\u001b[0m\n\u001b[1;32m--> 374\u001b[1;33m         \u001b[1;32mreturn\u001b[0m \u001b[0mself\u001b[0m\u001b[1;33m.\u001b[0m\u001b[0m_request\u001b[0m\u001b[1;33m(\u001b[0m\u001b[0mcommand_info\u001b[0m\u001b[1;33m[\u001b[0m\u001b[1;36m0\u001b[0m\u001b[1;33m]\u001b[0m\u001b[1;33m,\u001b[0m \u001b[0murl\u001b[0m\u001b[1;33m,\u001b[0m \u001b[0mbody\u001b[0m\u001b[1;33m=\u001b[0m\u001b[0mdata\u001b[0m\u001b[1;33m)\u001b[0m\u001b[1;33m\u001b[0m\u001b[1;33m\u001b[0m\u001b[0m\n\u001b[0m\u001b[0;32m    375\u001b[0m \u001b[1;33m\u001b[0m\u001b[0m\n\u001b[0;32m    376\u001b[0m     \u001b[1;32mdef\u001b[0m \u001b[0m_request\u001b[0m\u001b[1;33m(\u001b[0m\u001b[0mself\u001b[0m\u001b[1;33m,\u001b[0m \u001b[0mmethod\u001b[0m\u001b[1;33m,\u001b[0m \u001b[0murl\u001b[0m\u001b[1;33m,\u001b[0m \u001b[0mbody\u001b[0m\u001b[1;33m=\u001b[0m\u001b[1;32mNone\u001b[0m\u001b[1;33m)\u001b[0m\u001b[1;33m:\u001b[0m\u001b[1;33m\u001b[0m\u001b[1;33m\u001b[0m\u001b[0m\n",
      "\u001b[1;32m~\\anaconda3\\lib\\site-packages\\selenium\\webdriver\\remote\\remote_connection.py\u001b[0m in \u001b[0;36m_request\u001b[1;34m(self, method, url, body)\u001b[0m\n\u001b[0;32m    395\u001b[0m \u001b[1;33m\u001b[0m\u001b[0m\n\u001b[0;32m    396\u001b[0m         \u001b[1;32mif\u001b[0m \u001b[0mself\u001b[0m\u001b[1;33m.\u001b[0m\u001b[0mkeep_alive\u001b[0m\u001b[1;33m:\u001b[0m\u001b[1;33m\u001b[0m\u001b[1;33m\u001b[0m\u001b[0m\n\u001b[1;32m--> 397\u001b[1;33m             \u001b[0mresp\u001b[0m \u001b[1;33m=\u001b[0m \u001b[0mself\u001b[0m\u001b[1;33m.\u001b[0m\u001b[0m_conn\u001b[0m\u001b[1;33m.\u001b[0m\u001b[0mrequest\u001b[0m\u001b[1;33m(\u001b[0m\u001b[0mmethod\u001b[0m\u001b[1;33m,\u001b[0m \u001b[0murl\u001b[0m\u001b[1;33m,\u001b[0m \u001b[0mbody\u001b[0m\u001b[1;33m=\u001b[0m\u001b[0mbody\u001b[0m\u001b[1;33m,\u001b[0m \u001b[0mheaders\u001b[0m\u001b[1;33m=\u001b[0m\u001b[0mheaders\u001b[0m\u001b[1;33m)\u001b[0m\u001b[1;33m\u001b[0m\u001b[1;33m\u001b[0m\u001b[0m\n\u001b[0m\u001b[0;32m    398\u001b[0m \u001b[1;33m\u001b[0m\u001b[0m\n\u001b[0;32m    399\u001b[0m             \u001b[0mstatuscode\u001b[0m \u001b[1;33m=\u001b[0m \u001b[0mresp\u001b[0m\u001b[1;33m.\u001b[0m\u001b[0mstatus\u001b[0m\u001b[1;33m\u001b[0m\u001b[1;33m\u001b[0m\u001b[0m\n",
      "\u001b[1;32m~\\anaconda3\\lib\\site-packages\\urllib3\\request.py\u001b[0m in \u001b[0;36mrequest\u001b[1;34m(self, method, url, fields, headers, **urlopen_kw)\u001b[0m\n\u001b[0;32m     77\u001b[0m             )\n\u001b[0;32m     78\u001b[0m         \u001b[1;32melse\u001b[0m\u001b[1;33m:\u001b[0m\u001b[1;33m\u001b[0m\u001b[1;33m\u001b[0m\u001b[0m\n\u001b[1;32m---> 79\u001b[1;33m             return self.request_encode_body(\n\u001b[0m\u001b[0;32m     80\u001b[0m                 \u001b[0mmethod\u001b[0m\u001b[1;33m,\u001b[0m \u001b[0murl\u001b[0m\u001b[1;33m,\u001b[0m \u001b[0mfields\u001b[0m\u001b[1;33m=\u001b[0m\u001b[0mfields\u001b[0m\u001b[1;33m,\u001b[0m \u001b[0mheaders\u001b[0m\u001b[1;33m=\u001b[0m\u001b[0mheaders\u001b[0m\u001b[1;33m,\u001b[0m \u001b[1;33m**\u001b[0m\u001b[0murlopen_kw\u001b[0m\u001b[1;33m\u001b[0m\u001b[1;33m\u001b[0m\u001b[0m\n\u001b[0;32m     81\u001b[0m             )\n",
      "\u001b[1;32m~\\anaconda3\\lib\\site-packages\\urllib3\\request.py\u001b[0m in \u001b[0;36mrequest_encode_body\u001b[1;34m(self, method, url, fields, headers, encode_multipart, multipart_boundary, **urlopen_kw)\u001b[0m\n\u001b[0;32m    169\u001b[0m         \u001b[0mextra_kw\u001b[0m\u001b[1;33m.\u001b[0m\u001b[0mupdate\u001b[0m\u001b[1;33m(\u001b[0m\u001b[0murlopen_kw\u001b[0m\u001b[1;33m)\u001b[0m\u001b[1;33m\u001b[0m\u001b[1;33m\u001b[0m\u001b[0m\n\u001b[0;32m    170\u001b[0m \u001b[1;33m\u001b[0m\u001b[0m\n\u001b[1;32m--> 171\u001b[1;33m         \u001b[1;32mreturn\u001b[0m \u001b[0mself\u001b[0m\u001b[1;33m.\u001b[0m\u001b[0murlopen\u001b[0m\u001b[1;33m(\u001b[0m\u001b[0mmethod\u001b[0m\u001b[1;33m,\u001b[0m \u001b[0murl\u001b[0m\u001b[1;33m,\u001b[0m \u001b[1;33m**\u001b[0m\u001b[0mextra_kw\u001b[0m\u001b[1;33m)\u001b[0m\u001b[1;33m\u001b[0m\u001b[1;33m\u001b[0m\u001b[0m\n\u001b[0m",
      "\u001b[1;32m~\\anaconda3\\lib\\site-packages\\urllib3\\poolmanager.py\u001b[0m in \u001b[0;36murlopen\u001b[1;34m(self, method, url, redirect, **kw)\u001b[0m\n\u001b[0;32m    334\u001b[0m             \u001b[0mresponse\u001b[0m \u001b[1;33m=\u001b[0m \u001b[0mconn\u001b[0m\u001b[1;33m.\u001b[0m\u001b[0murlopen\u001b[0m\u001b[1;33m(\u001b[0m\u001b[0mmethod\u001b[0m\u001b[1;33m,\u001b[0m \u001b[0murl\u001b[0m\u001b[1;33m,\u001b[0m \u001b[1;33m**\u001b[0m\u001b[0mkw\u001b[0m\u001b[1;33m)\u001b[0m\u001b[1;33m\u001b[0m\u001b[1;33m\u001b[0m\u001b[0m\n\u001b[0;32m    335\u001b[0m         \u001b[1;32melse\u001b[0m\u001b[1;33m:\u001b[0m\u001b[1;33m\u001b[0m\u001b[1;33m\u001b[0m\u001b[0m\n\u001b[1;32m--> 336\u001b[1;33m             \u001b[0mresponse\u001b[0m \u001b[1;33m=\u001b[0m \u001b[0mconn\u001b[0m\u001b[1;33m.\u001b[0m\u001b[0murlopen\u001b[0m\u001b[1;33m(\u001b[0m\u001b[0mmethod\u001b[0m\u001b[1;33m,\u001b[0m \u001b[0mu\u001b[0m\u001b[1;33m.\u001b[0m\u001b[0mrequest_uri\u001b[0m\u001b[1;33m,\u001b[0m \u001b[1;33m**\u001b[0m\u001b[0mkw\u001b[0m\u001b[1;33m)\u001b[0m\u001b[1;33m\u001b[0m\u001b[1;33m\u001b[0m\u001b[0m\n\u001b[0m\u001b[0;32m    337\u001b[0m \u001b[1;33m\u001b[0m\u001b[0m\n\u001b[0;32m    338\u001b[0m         \u001b[0mredirect_location\u001b[0m \u001b[1;33m=\u001b[0m \u001b[0mredirect\u001b[0m \u001b[1;32mand\u001b[0m \u001b[0mresponse\u001b[0m\u001b[1;33m.\u001b[0m\u001b[0mget_redirect_location\u001b[0m\u001b[1;33m(\u001b[0m\u001b[1;33m)\u001b[0m\u001b[1;33m\u001b[0m\u001b[1;33m\u001b[0m\u001b[0m\n",
      "\u001b[1;32m~\\anaconda3\\lib\\site-packages\\urllib3\\connectionpool.py\u001b[0m in \u001b[0;36murlopen\u001b[1;34m(self, method, url, body, headers, retries, redirect, assert_same_host, timeout, pool_timeout, release_conn, chunked, body_pos, **response_kw)\u001b[0m\n\u001b[0;32m    668\u001b[0m \u001b[1;33m\u001b[0m\u001b[0m\n\u001b[0;32m    669\u001b[0m             \u001b[1;31m# Make the request on the httplib connection object.\u001b[0m\u001b[1;33m\u001b[0m\u001b[1;33m\u001b[0m\u001b[1;33m\u001b[0m\u001b[0m\n\u001b[1;32m--> 670\u001b[1;33m             httplib_response = self._make_request(\n\u001b[0m\u001b[0;32m    671\u001b[0m                 \u001b[0mconn\u001b[0m\u001b[1;33m,\u001b[0m\u001b[1;33m\u001b[0m\u001b[1;33m\u001b[0m\u001b[0m\n\u001b[0;32m    672\u001b[0m                 \u001b[0mmethod\u001b[0m\u001b[1;33m,\u001b[0m\u001b[1;33m\u001b[0m\u001b[1;33m\u001b[0m\u001b[0m\n",
      "\u001b[1;32m~\\anaconda3\\lib\\site-packages\\urllib3\\connectionpool.py\u001b[0m in \u001b[0;36m_make_request\u001b[1;34m(self, conn, method, url, timeout, chunked, **httplib_request_kw)\u001b[0m\n\u001b[0;32m    424\u001b[0m                     \u001b[1;31m# Python 3 (including for exceptions like SystemExit).\u001b[0m\u001b[1;33m\u001b[0m\u001b[1;33m\u001b[0m\u001b[1;33m\u001b[0m\u001b[0m\n\u001b[0;32m    425\u001b[0m                     \u001b[1;31m# Otherwise it looks like a bug in the code.\u001b[0m\u001b[1;33m\u001b[0m\u001b[1;33m\u001b[0m\u001b[1;33m\u001b[0m\u001b[0m\n\u001b[1;32m--> 426\u001b[1;33m                     \u001b[0msix\u001b[0m\u001b[1;33m.\u001b[0m\u001b[0mraise_from\u001b[0m\u001b[1;33m(\u001b[0m\u001b[0me\u001b[0m\u001b[1;33m,\u001b[0m \u001b[1;32mNone\u001b[0m\u001b[1;33m)\u001b[0m\u001b[1;33m\u001b[0m\u001b[1;33m\u001b[0m\u001b[0m\n\u001b[0m\u001b[0;32m    427\u001b[0m         \u001b[1;32mexcept\u001b[0m \u001b[1;33m(\u001b[0m\u001b[0mSocketTimeout\u001b[0m\u001b[1;33m,\u001b[0m \u001b[0mBaseSSLError\u001b[0m\u001b[1;33m,\u001b[0m \u001b[0mSocketError\u001b[0m\u001b[1;33m)\u001b[0m \u001b[1;32mas\u001b[0m \u001b[0me\u001b[0m\u001b[1;33m:\u001b[0m\u001b[1;33m\u001b[0m\u001b[1;33m\u001b[0m\u001b[0m\n\u001b[0;32m    428\u001b[0m             \u001b[0mself\u001b[0m\u001b[1;33m.\u001b[0m\u001b[0m_raise_timeout\u001b[0m\u001b[1;33m(\u001b[0m\u001b[0merr\u001b[0m\u001b[1;33m=\u001b[0m\u001b[0me\u001b[0m\u001b[1;33m,\u001b[0m \u001b[0murl\u001b[0m\u001b[1;33m=\u001b[0m\u001b[0murl\u001b[0m\u001b[1;33m,\u001b[0m \u001b[0mtimeout_value\u001b[0m\u001b[1;33m=\u001b[0m\u001b[0mread_timeout\u001b[0m\u001b[1;33m)\u001b[0m\u001b[1;33m\u001b[0m\u001b[1;33m\u001b[0m\u001b[0m\n",
      "\u001b[1;32m~\\anaconda3\\lib\\site-packages\\urllib3\\packages\\six.py\u001b[0m in \u001b[0;36mraise_from\u001b[1;34m(value, from_value)\u001b[0m\n",
      "\u001b[1;32m~\\anaconda3\\lib\\site-packages\\urllib3\\connectionpool.py\u001b[0m in \u001b[0;36m_make_request\u001b[1;34m(self, conn, method, url, timeout, chunked, **httplib_request_kw)\u001b[0m\n\u001b[0;32m    419\u001b[0m                 \u001b[1;31m# Python 3\u001b[0m\u001b[1;33m\u001b[0m\u001b[1;33m\u001b[0m\u001b[1;33m\u001b[0m\u001b[0m\n\u001b[0;32m    420\u001b[0m                 \u001b[1;32mtry\u001b[0m\u001b[1;33m:\u001b[0m\u001b[1;33m\u001b[0m\u001b[1;33m\u001b[0m\u001b[0m\n\u001b[1;32m--> 421\u001b[1;33m                     \u001b[0mhttplib_response\u001b[0m \u001b[1;33m=\u001b[0m \u001b[0mconn\u001b[0m\u001b[1;33m.\u001b[0m\u001b[0mgetresponse\u001b[0m\u001b[1;33m(\u001b[0m\u001b[1;33m)\u001b[0m\u001b[1;33m\u001b[0m\u001b[1;33m\u001b[0m\u001b[0m\n\u001b[0m\u001b[0;32m    422\u001b[0m                 \u001b[1;32mexcept\u001b[0m \u001b[0mBaseException\u001b[0m \u001b[1;32mas\u001b[0m \u001b[0me\u001b[0m\u001b[1;33m:\u001b[0m\u001b[1;33m\u001b[0m\u001b[1;33m\u001b[0m\u001b[0m\n\u001b[0;32m    423\u001b[0m                     \u001b[1;31m# Remove the TypeError from the exception chain in\u001b[0m\u001b[1;33m\u001b[0m\u001b[1;33m\u001b[0m\u001b[1;33m\u001b[0m\u001b[0m\n",
      "\u001b[1;32m~\\anaconda3\\lib\\http\\client.py\u001b[0m in \u001b[0;36mgetresponse\u001b[1;34m(self)\u001b[0m\n\u001b[0;32m   1330\u001b[0m         \u001b[1;32mtry\u001b[0m\u001b[1;33m:\u001b[0m\u001b[1;33m\u001b[0m\u001b[1;33m\u001b[0m\u001b[0m\n\u001b[0;32m   1331\u001b[0m             \u001b[1;32mtry\u001b[0m\u001b[1;33m:\u001b[0m\u001b[1;33m\u001b[0m\u001b[1;33m\u001b[0m\u001b[0m\n\u001b[1;32m-> 1332\u001b[1;33m                 \u001b[0mresponse\u001b[0m\u001b[1;33m.\u001b[0m\u001b[0mbegin\u001b[0m\u001b[1;33m(\u001b[0m\u001b[1;33m)\u001b[0m\u001b[1;33m\u001b[0m\u001b[1;33m\u001b[0m\u001b[0m\n\u001b[0m\u001b[0;32m   1333\u001b[0m             \u001b[1;32mexcept\u001b[0m \u001b[0mConnectionError\u001b[0m\u001b[1;33m:\u001b[0m\u001b[1;33m\u001b[0m\u001b[1;33m\u001b[0m\u001b[0m\n\u001b[0;32m   1334\u001b[0m                 \u001b[0mself\u001b[0m\u001b[1;33m.\u001b[0m\u001b[0mclose\u001b[0m\u001b[1;33m(\u001b[0m\u001b[1;33m)\u001b[0m\u001b[1;33m\u001b[0m\u001b[1;33m\u001b[0m\u001b[0m\n",
      "\u001b[1;32m~\\anaconda3\\lib\\http\\client.py\u001b[0m in \u001b[0;36mbegin\u001b[1;34m(self)\u001b[0m\n\u001b[0;32m    301\u001b[0m         \u001b[1;31m# read until we get a non-100 response\u001b[0m\u001b[1;33m\u001b[0m\u001b[1;33m\u001b[0m\u001b[1;33m\u001b[0m\u001b[0m\n\u001b[0;32m    302\u001b[0m         \u001b[1;32mwhile\u001b[0m \u001b[1;32mTrue\u001b[0m\u001b[1;33m:\u001b[0m\u001b[1;33m\u001b[0m\u001b[1;33m\u001b[0m\u001b[0m\n\u001b[1;32m--> 303\u001b[1;33m             \u001b[0mversion\u001b[0m\u001b[1;33m,\u001b[0m \u001b[0mstatus\u001b[0m\u001b[1;33m,\u001b[0m \u001b[0mreason\u001b[0m \u001b[1;33m=\u001b[0m \u001b[0mself\u001b[0m\u001b[1;33m.\u001b[0m\u001b[0m_read_status\u001b[0m\u001b[1;33m(\u001b[0m\u001b[1;33m)\u001b[0m\u001b[1;33m\u001b[0m\u001b[1;33m\u001b[0m\u001b[0m\n\u001b[0m\u001b[0;32m    304\u001b[0m             \u001b[1;32mif\u001b[0m \u001b[0mstatus\u001b[0m \u001b[1;33m!=\u001b[0m \u001b[0mCONTINUE\u001b[0m\u001b[1;33m:\u001b[0m\u001b[1;33m\u001b[0m\u001b[1;33m\u001b[0m\u001b[0m\n\u001b[0;32m    305\u001b[0m                 \u001b[1;32mbreak\u001b[0m\u001b[1;33m\u001b[0m\u001b[1;33m\u001b[0m\u001b[0m\n",
      "\u001b[1;32m~\\anaconda3\\lib\\http\\client.py\u001b[0m in \u001b[0;36m_read_status\u001b[1;34m(self)\u001b[0m\n\u001b[0;32m    262\u001b[0m \u001b[1;33m\u001b[0m\u001b[0m\n\u001b[0;32m    263\u001b[0m     \u001b[1;32mdef\u001b[0m \u001b[0m_read_status\u001b[0m\u001b[1;33m(\u001b[0m\u001b[0mself\u001b[0m\u001b[1;33m)\u001b[0m\u001b[1;33m:\u001b[0m\u001b[1;33m\u001b[0m\u001b[1;33m\u001b[0m\u001b[0m\n\u001b[1;32m--> 264\u001b[1;33m         \u001b[0mline\u001b[0m \u001b[1;33m=\u001b[0m \u001b[0mstr\u001b[0m\u001b[1;33m(\u001b[0m\u001b[0mself\u001b[0m\u001b[1;33m.\u001b[0m\u001b[0mfp\u001b[0m\u001b[1;33m.\u001b[0m\u001b[0mreadline\u001b[0m\u001b[1;33m(\u001b[0m\u001b[0m_MAXLINE\u001b[0m \u001b[1;33m+\u001b[0m \u001b[1;36m1\u001b[0m\u001b[1;33m)\u001b[0m\u001b[1;33m,\u001b[0m \u001b[1;34m\"iso-8859-1\"\u001b[0m\u001b[1;33m)\u001b[0m\u001b[1;33m\u001b[0m\u001b[1;33m\u001b[0m\u001b[0m\n\u001b[0m\u001b[0;32m    265\u001b[0m         \u001b[1;32mif\u001b[0m \u001b[0mlen\u001b[0m\u001b[1;33m(\u001b[0m\u001b[0mline\u001b[0m\u001b[1;33m)\u001b[0m \u001b[1;33m>\u001b[0m \u001b[0m_MAXLINE\u001b[0m\u001b[1;33m:\u001b[0m\u001b[1;33m\u001b[0m\u001b[1;33m\u001b[0m\u001b[0m\n\u001b[0;32m    266\u001b[0m             \u001b[1;32mraise\u001b[0m \u001b[0mLineTooLong\u001b[0m\u001b[1;33m(\u001b[0m\u001b[1;34m\"status line\"\u001b[0m\u001b[1;33m)\u001b[0m\u001b[1;33m\u001b[0m\u001b[1;33m\u001b[0m\u001b[0m\n",
      "\u001b[1;32m~\\anaconda3\\lib\\socket.py\u001b[0m in \u001b[0;36mreadinto\u001b[1;34m(self, b)\u001b[0m\n\u001b[0;32m    667\u001b[0m         \u001b[1;32mwhile\u001b[0m \u001b[1;32mTrue\u001b[0m\u001b[1;33m:\u001b[0m\u001b[1;33m\u001b[0m\u001b[1;33m\u001b[0m\u001b[0m\n\u001b[0;32m    668\u001b[0m             \u001b[1;32mtry\u001b[0m\u001b[1;33m:\u001b[0m\u001b[1;33m\u001b[0m\u001b[1;33m\u001b[0m\u001b[0m\n\u001b[1;32m--> 669\u001b[1;33m                 \u001b[1;32mreturn\u001b[0m \u001b[0mself\u001b[0m\u001b[1;33m.\u001b[0m\u001b[0m_sock\u001b[0m\u001b[1;33m.\u001b[0m\u001b[0mrecv_into\u001b[0m\u001b[1;33m(\u001b[0m\u001b[0mb\u001b[0m\u001b[1;33m)\u001b[0m\u001b[1;33m\u001b[0m\u001b[1;33m\u001b[0m\u001b[0m\n\u001b[0m\u001b[0;32m    670\u001b[0m             \u001b[1;32mexcept\u001b[0m \u001b[0mtimeout\u001b[0m\u001b[1;33m:\u001b[0m\u001b[1;33m\u001b[0m\u001b[1;33m\u001b[0m\u001b[0m\n\u001b[0;32m    671\u001b[0m                 \u001b[0mself\u001b[0m\u001b[1;33m.\u001b[0m\u001b[0m_timeout_occurred\u001b[0m \u001b[1;33m=\u001b[0m \u001b[1;32mTrue\u001b[0m\u001b[1;33m\u001b[0m\u001b[1;33m\u001b[0m\u001b[0m\n",
      "\u001b[1;31mKeyboardInterrupt\u001b[0m: "
     ]
    }
   ],
   "source": [
    "userlist=[]\n",
    "website_main(web)"
   ]
  },
  {
   "cell_type": "code",
   "execution_count": 17,
   "metadata": {
    "ExecuteTime": {
     "end_time": "2020-12-19T16:23:54.335190Z",
     "start_time": "2020-12-19T16:23:54.311765Z"
    }
   },
   "outputs": [],
   "source": [
    "A=pd.DataFrame(userlist)"
   ]
  },
  {
   "cell_type": "code",
   "execution_count": 18,
   "metadata": {
    "ExecuteTime": {
     "end_time": "2020-12-19T16:23:57.475819Z",
     "start_time": "2020-12-19T16:23:57.337638Z"
    }
   },
   "outputs": [
    {
     "data": {
      "text/html": [
       "<div>\n",
       "<style scoped>\n",
       "    .dataframe tbody tr th:only-of-type {\n",
       "        vertical-align: middle;\n",
       "    }\n",
       "\n",
       "    .dataframe tbody tr th {\n",
       "        vertical-align: top;\n",
       "    }\n",
       "\n",
       "    .dataframe thead th {\n",
       "        text-align: right;\n",
       "    }\n",
       "</style>\n",
       "<table border=\"1\" class=\"dataframe\">\n",
       "  <thead>\n",
       "    <tr style=\"text-align: right;\">\n",
       "      <th></th>\n",
       "      <th>Medicine</th>\n",
       "      <th>Date</th>\n",
       "      <th>Condition</th>\n",
       "      <th>Effectiveness</th>\n",
       "      <th>EaseofUse</th>\n",
       "      <th>Satisfaction</th>\n",
       "      <th>Review</th>\n",
       "    </tr>\n",
       "  </thead>\n",
       "  <tbody>\n",
       "    <tr>\n",
       "      <th>0</th>\n",
       "      <td>Actos oral</td>\n",
       "      <td>7/31/2020 2:32:15 PM</td>\n",
       "      <td>Condition: Type 2 Diabetes Mellitus</td>\n",
       "      <td>[5.0]</td>\n",
       "      <td>[5.0]</td>\n",
       "      <td>[5.0]</td>\n",
       "      <td>No Script or health Insurance needed to place ...</td>\n",
       "    </tr>\n",
       "    <tr>\n",
       "      <th>1</th>\n",
       "      <td>Actos oral</td>\n",
       "      <td>6/2/2020 7:53:34 PM</td>\n",
       "      <td>Condition: Other</td>\n",
       "      <td>[5.0]</td>\n",
       "      <td>[5.0]</td>\n",
       "      <td>[5.0]</td>\n",
       "      <td>When i first heard about herbal remedy i never...</td>\n",
       "    </tr>\n",
       "    <tr>\n",
       "      <th>2</th>\n",
       "      <td>Actos oral</td>\n",
       "      <td>12/7/2019 3:36:39 AM</td>\n",
       "      <td>Condition: Type 2 Diabetes Mellitus</td>\n",
       "      <td>[1.0]</td>\n",
       "      <td>[1.0]</td>\n",
       "      <td>[1.0]</td>\n",
       "      <td>Absolutely no control over sugars since taking...</td>\n",
       "    </tr>\n",
       "    <tr>\n",
       "      <th>3</th>\n",
       "      <td>Actos oral</td>\n",
       "      <td>11/11/2019 9:17:24 AM</td>\n",
       "      <td>Condition: Other</td>\n",
       "      <td>[3.0]</td>\n",
       "      <td>[4.0]</td>\n",
       "      <td>[3.0]</td>\n",
       "      <td>good drug</td>\n",
       "    </tr>\n",
       "    <tr>\n",
       "      <th>4</th>\n",
       "      <td>Actos oral</td>\n",
       "      <td>10/29/2019 11:38:07 AM</td>\n",
       "      <td>Condition: Type 2 Diabetes Mellitus</td>\n",
       "      <td>[3.0]</td>\n",
       "      <td>[3.0]</td>\n",
       "      <td>[3.0]</td>\n",
       "      <td></td>\n",
       "    </tr>\n",
       "    <tr>\n",
       "      <th>5</th>\n",
       "      <td>Actos oral</td>\n",
       "      <td>10/29/2019 8:31:23 AM</td>\n",
       "      <td>Condition: Other</td>\n",
       "      <td>[3.0]</td>\n",
       "      <td>[3.0]</td>\n",
       "      <td>[3.0]</td>\n",
       "      <td></td>\n",
       "    </tr>\n",
       "    <tr>\n",
       "      <th>6</th>\n",
       "      <td>Actos oral</td>\n",
       "      <td>7/20/2019 4:05:04 AM</td>\n",
       "      <td>Condition: Other</td>\n",
       "      <td>[5.0]</td>\n",
       "      <td>[5.0]</td>\n",
       "      <td>[5.0]</td>\n",
       "      <td>I  offer top quality  medications, we have mul...</td>\n",
       "    </tr>\n",
       "    <tr>\n",
       "      <th>7</th>\n",
       "      <td>Actos oral</td>\n",
       "      <td>5/8/2019 3:08:12 PM</td>\n",
       "      <td>Condition: Type 2 Diabetes Mellitus</td>\n",
       "      <td>[2.0]</td>\n",
       "      <td>[2.0]</td>\n",
       "      <td>[1.0]</td>\n",
       "      <td>I am exhausted. I am usually very active, but ...</td>\n",
       "    </tr>\n",
       "    <tr>\n",
       "      <th>8</th>\n",
       "      <td>Actos oral</td>\n",
       "      <td>4/12/2019 4:35:25 PM</td>\n",
       "      <td>Condition: Type 2 Diabetes Mellitus</td>\n",
       "      <td>[3.0]</td>\n",
       "      <td>[3.0]</td>\n",
       "      <td>[1.0]</td>\n",
       "      <td>Been on for 3 months...numbers came down but w...</td>\n",
       "    </tr>\n",
       "    <tr>\n",
       "      <th>9</th>\n",
       "      <td>Actos oral</td>\n",
       "      <td>2/10/2019 9:01:19 AM</td>\n",
       "      <td>Condition: Type 2 Diabetes Mellitus</td>\n",
       "      <td>[5.0]</td>\n",
       "      <td>[5.0]</td>\n",
       "      <td>[3.0]</td>\n",
       "      <td>Too many problems reported with this medication</td>\n",
       "    </tr>\n",
       "    <tr>\n",
       "      <th>10</th>\n",
       "      <td>Actos oral</td>\n",
       "      <td>1/21/2019 2:55:09 PM</td>\n",
       "      <td>Condition: Type 2 Diabetes Mellitus</td>\n",
       "      <td>[1.0]</td>\n",
       "      <td>[1.0]</td>\n",
       "      <td>[1.0]</td>\n",
       "      <td>&gt;   DO NOT TAKE ACTOS  &lt;***_PLEASE R...</td>\n",
       "    </tr>\n",
       "    <tr>\n",
       "      <th>11</th>\n",
       "      <td>Actos oral</td>\n",
       "      <td>11/20/2018 2:25:51 PM</td>\n",
       "      <td>Condition: Type 2 Diabetes Mellitus</td>\n",
       "      <td>[4.0]</td>\n",
       "      <td>[4.0]</td>\n",
       "      <td>[1.0]</td>\n",
       "      <td>after taking actos for about 6 weeks I develop...</td>\n",
       "    </tr>\n",
       "    <tr>\n",
       "      <th>12</th>\n",
       "      <td>Actos oral</td>\n",
       "      <td>11/9/2018 1:05:46 PM</td>\n",
       "      <td>Condition: Type 2 Diabetes Mellitus</td>\n",
       "      <td>[2.0]</td>\n",
       "      <td>[5.0]</td>\n",
       "      <td>[2.0]</td>\n",
       "      <td>Was previously taking Lantus and Jardiance, sw...</td>\n",
       "    </tr>\n",
       "    <tr>\n",
       "      <th>13</th>\n",
       "      <td>Actos oral</td>\n",
       "      <td>8/24/2017 7:46:20 PM</td>\n",
       "      <td>Condition: Type 2 Diabetes Mellitus</td>\n",
       "      <td>[2.0]</td>\n",
       "      <td>[5.0]</td>\n",
       "      <td>[2.0]</td>\n",
       "      <td>Still maintain glucose level</td>\n",
       "    </tr>\n",
       "    <tr>\n",
       "      <th>14</th>\n",
       "      <td>Actos oral</td>\n",
       "      <td>8/21/2016 4:34:01 PM</td>\n",
       "      <td>Condition: Type 2 Diabetes Mellitus</td>\n",
       "      <td>[1.0]</td>\n",
       "      <td>[1.0]</td>\n",
       "      <td>[1.0]</td>\n",
       "      <td>extra mucus-runny nose-very tired-swelling of ...</td>\n",
       "    </tr>\n",
       "    <tr>\n",
       "      <th>15</th>\n",
       "      <td>Actos oral</td>\n",
       "      <td>5/13/2016 12:21:23 AM</td>\n",
       "      <td>Condition: Type 2 Diabetes Mellitus</td>\n",
       "      <td>[5.0]</td>\n",
       "      <td>[5.0]</td>\n",
       "      <td>[5.0]</td>\n",
       "      <td></td>\n",
       "    </tr>\n",
       "    <tr>\n",
       "      <th>16</th>\n",
       "      <td>Actos oral</td>\n",
       "      <td>4/28/2016 6:47:35 AM</td>\n",
       "      <td>Condition: Other</td>\n",
       "      <td>[3.0]</td>\n",
       "      <td>[3.0]</td>\n",
       "      <td>[3.0]</td>\n",
       "      <td>test</td>\n",
       "    </tr>\n",
       "    <tr>\n",
       "      <th>17</th>\n",
       "      <td>Actos oral</td>\n",
       "      <td>1/8/2016 2:18:32 PM</td>\n",
       "      <td>Condition: Type 2 Diabetes Mellitus</td>\n",
       "      <td>[5.0]</td>\n",
       "      <td>[5.0]</td>\n",
       "      <td>[5.0]</td>\n",
       "      <td>When taking 15mg Actos my A-1c was 6.9 in June...</td>\n",
       "    </tr>\n",
       "    <tr>\n",
       "      <th>18</th>\n",
       "      <td>Actos oral</td>\n",
       "      <td>9/9/2015 2:41:33 PM</td>\n",
       "      <td>Condition: Type 2 Diabetes Mellitus</td>\n",
       "      <td>[2.0]</td>\n",
       "      <td>[4.0]</td>\n",
       "      <td>[1.0]</td>\n",
       "      <td>On Actos for 5 years 30mg am 15pm. Terrible le...</td>\n",
       "    </tr>\n",
       "    <tr>\n",
       "      <th>19</th>\n",
       "      <td>Actos oral</td>\n",
       "      <td>7/2/2015 2:19:01 PM</td>\n",
       "      <td>Condition: Other</td>\n",
       "      <td>[3.0]</td>\n",
       "      <td>[3.0]</td>\n",
       "      <td>[2.0]</td>\n",
       "      <td></td>\n",
       "    </tr>\n",
       "    <tr>\n",
       "      <th>20</th>\n",
       "      <td>Actos oral</td>\n",
       "      <td>4/15/2015 4:51:53 PM</td>\n",
       "      <td>Condition: Type 2 Diabetes Mellitus</td>\n",
       "      <td>[2.0]</td>\n",
       "      <td>[5.0]</td>\n",
       "      <td>[1.0]</td>\n",
       "      <td>First, I was fine with it for about a year, it...</td>\n",
       "    </tr>\n",
       "    <tr>\n",
       "      <th>21</th>\n",
       "      <td>Actos oral</td>\n",
       "      <td>12/20/2014 1:33:20 PM</td>\n",
       "      <td>Condition: Type 2 Diabetes Mellitus</td>\n",
       "      <td>[4.0]</td>\n",
       "      <td>[4.0]</td>\n",
       "      <td>[4.0]</td>\n",
       "      <td>Was taking 45mg daily, within last 6 months cu...</td>\n",
       "    </tr>\n",
       "    <tr>\n",
       "      <th>22</th>\n",
       "      <td>Actos oral</td>\n",
       "      <td>10/5/2014 6:23:38 AM</td>\n",
       "      <td>Condition: Type 2 Diabetes Mellitus</td>\n",
       "      <td>[1.0]</td>\n",
       "      <td>[3.0]</td>\n",
       "      <td>[1.0]</td>\n",
       "      <td>I was on Actos for 5 years.  Unbelievably, my ...</td>\n",
       "    </tr>\n",
       "    <tr>\n",
       "      <th>23</th>\n",
       "      <td>Actos oral</td>\n",
       "      <td>8/24/2014 9:15:28 PM</td>\n",
       "      <td>Condition: Type 2 Diabetes Mellitus</td>\n",
       "      <td>[5.0]</td>\n",
       "      <td>[5.0]</td>\n",
       "      <td>[2.0]</td>\n",
       "      <td>i have gained 50lb since starting actos 30 mg ...</td>\n",
       "    </tr>\n",
       "    <tr>\n",
       "      <th>24</th>\n",
       "      <td>Actos oral</td>\n",
       "      <td>8/14/2014 4:04:46 PM</td>\n",
       "      <td>Condition: Type 2 Diabetes Mellitus</td>\n",
       "      <td>[5.0]</td>\n",
       "      <td>[5.0]</td>\n",
       "      <td>[5.0]</td>\n",
       "      <td>With Glimprideride (3mg) twice daily, ACTOs ha...</td>\n",
       "    </tr>\n",
       "  </tbody>\n",
       "</table>\n",
       "</div>"
      ],
      "text/plain": [
       "      Medicine                    Date                            Condition  \\\n",
       "0   Actos oral    7/31/2020 2:32:15 PM  Condition: Type 2 Diabetes Mellitus   \n",
       "1   Actos oral     6/2/2020 7:53:34 PM                     Condition: Other   \n",
       "2   Actos oral    12/7/2019 3:36:39 AM  Condition: Type 2 Diabetes Mellitus   \n",
       "3   Actos oral   11/11/2019 9:17:24 AM                     Condition: Other   \n",
       "4   Actos oral  10/29/2019 11:38:07 AM  Condition: Type 2 Diabetes Mellitus   \n",
       "5   Actos oral   10/29/2019 8:31:23 AM                     Condition: Other   \n",
       "6   Actos oral    7/20/2019 4:05:04 AM                     Condition: Other   \n",
       "7   Actos oral     5/8/2019 3:08:12 PM  Condition: Type 2 Diabetes Mellitus   \n",
       "8   Actos oral    4/12/2019 4:35:25 PM  Condition: Type 2 Diabetes Mellitus   \n",
       "9   Actos oral    2/10/2019 9:01:19 AM  Condition: Type 2 Diabetes Mellitus   \n",
       "10  Actos oral    1/21/2019 2:55:09 PM  Condition: Type 2 Diabetes Mellitus   \n",
       "11  Actos oral   11/20/2018 2:25:51 PM  Condition: Type 2 Diabetes Mellitus   \n",
       "12  Actos oral    11/9/2018 1:05:46 PM  Condition: Type 2 Diabetes Mellitus   \n",
       "13  Actos oral    8/24/2017 7:46:20 PM  Condition: Type 2 Diabetes Mellitus   \n",
       "14  Actos oral    8/21/2016 4:34:01 PM  Condition: Type 2 Diabetes Mellitus   \n",
       "15  Actos oral   5/13/2016 12:21:23 AM  Condition: Type 2 Diabetes Mellitus   \n",
       "16  Actos oral    4/28/2016 6:47:35 AM                     Condition: Other   \n",
       "17  Actos oral     1/8/2016 2:18:32 PM  Condition: Type 2 Diabetes Mellitus   \n",
       "18  Actos oral     9/9/2015 2:41:33 PM  Condition: Type 2 Diabetes Mellitus   \n",
       "19  Actos oral     7/2/2015 2:19:01 PM                     Condition: Other   \n",
       "20  Actos oral    4/15/2015 4:51:53 PM  Condition: Type 2 Diabetes Mellitus   \n",
       "21  Actos oral   12/20/2014 1:33:20 PM  Condition: Type 2 Diabetes Mellitus   \n",
       "22  Actos oral    10/5/2014 6:23:38 AM  Condition: Type 2 Diabetes Mellitus   \n",
       "23  Actos oral    8/24/2014 9:15:28 PM  Condition: Type 2 Diabetes Mellitus   \n",
       "24  Actos oral    8/14/2014 4:04:46 PM  Condition: Type 2 Diabetes Mellitus   \n",
       "\n",
       "   Effectiveness EaseofUse Satisfaction  \\\n",
       "0          [5.0]     [5.0]        [5.0]   \n",
       "1          [5.0]     [5.0]        [5.0]   \n",
       "2          [1.0]     [1.0]        [1.0]   \n",
       "3          [3.0]     [4.0]        [3.0]   \n",
       "4          [3.0]     [3.0]        [3.0]   \n",
       "5          [3.0]     [3.0]        [3.0]   \n",
       "6          [5.0]     [5.0]        [5.0]   \n",
       "7          [2.0]     [2.0]        [1.0]   \n",
       "8          [3.0]     [3.0]        [1.0]   \n",
       "9          [5.0]     [5.0]        [3.0]   \n",
       "10         [1.0]     [1.0]        [1.0]   \n",
       "11         [4.0]     [4.0]        [1.0]   \n",
       "12         [2.0]     [5.0]        [2.0]   \n",
       "13         [2.0]     [5.0]        [2.0]   \n",
       "14         [1.0]     [1.0]        [1.0]   \n",
       "15         [5.0]     [5.0]        [5.0]   \n",
       "16         [3.0]     [3.0]        [3.0]   \n",
       "17         [5.0]     [5.0]        [5.0]   \n",
       "18         [2.0]     [4.0]        [1.0]   \n",
       "19         [3.0]     [3.0]        [2.0]   \n",
       "20         [2.0]     [5.0]        [1.0]   \n",
       "21         [4.0]     [4.0]        [4.0]   \n",
       "22         [1.0]     [3.0]        [1.0]   \n",
       "23         [5.0]     [5.0]        [2.0]   \n",
       "24         [5.0]     [5.0]        [5.0]   \n",
       "\n",
       "                                               Review  \n",
       "0   No Script or health Insurance needed to place ...  \n",
       "1   When i first heard about herbal remedy i never...  \n",
       "2   Absolutely no control over sugars since taking...  \n",
       "3                                           good drug  \n",
       "4                                                      \n",
       "5                                                      \n",
       "6   I  offer top quality  medications, we have mul...  \n",
       "7   I am exhausted. I am usually very active, but ...  \n",
       "8   Been on for 3 months...numbers came down but w...  \n",
       "9     Too many problems reported with this medication  \n",
       "10            >   DO NOT TAKE ACTOS  <***_PLEASE R...  \n",
       "11  after taking actos for about 6 weeks I develop...  \n",
       "12  Was previously taking Lantus and Jardiance, sw...  \n",
       "13                       Still maintain glucose level  \n",
       "14  extra mucus-runny nose-very tired-swelling of ...  \n",
       "15                                                     \n",
       "16                                               test  \n",
       "17  When taking 15mg Actos my A-1c was 6.9 in June...  \n",
       "18  On Actos for 5 years 30mg am 15pm. Terrible le...  \n",
       "19                                                     \n",
       "20  First, I was fine with it for about a year, it...  \n",
       "21  Was taking 45mg daily, within last 6 months cu...  \n",
       "22  I was on Actos for 5 years.  Unbelievably, my ...  \n",
       "23  i have gained 50lb since starting actos 30 mg ...  \n",
       "24  With Glimprideride (3mg) twice daily, ACTOs ha...  "
      ]
     },
     "execution_count": 18,
     "metadata": {},
     "output_type": "execute_result"
    }
   ],
   "source": [
    "A"
   ]
  },
  {
   "cell_type": "code",
   "execution_count": 19,
   "metadata": {
    "ExecuteTime": {
     "end_time": "2020-12-19T16:24:47.735706Z",
     "start_time": "2020-12-19T16:24:47.697959Z"
    }
   },
   "outputs": [],
   "source": [
    "A.to_csv('Drug.csv',index=False)"
   ]
  }
 ],
 "metadata": {
  "kernelspec": {
   "display_name": "Python 3",
   "language": "python",
   "name": "python3"
  },
  "language_info": {
   "codemirror_mode": {
    "name": "ipython",
    "version": 3
   },
   "file_extension": ".py",
   "mimetype": "text/x-python",
   "name": "python",
   "nbconvert_exporter": "python",
   "pygments_lexer": "ipython3",
   "version": "3.8.3"
  },
  "latex_envs": {
   "LaTeX_envs_menu_present": true,
   "autoclose": false,
   "autocomplete": true,
   "bibliofile": "biblio.bib",
   "cite_by": "apalike",
   "current_citInitial": 1,
   "eqLabelWithNumbers": true,
   "eqNumInitial": 1,
   "hotkeys": {
    "equation": "Ctrl-E",
    "itemize": "Ctrl-I"
   },
   "labels_anchors": false,
   "latex_user_defs": false,
   "report_style_numbering": false,
   "user_envs_cfg": false
  },
  "varInspector": {
   "cols": {
    "lenName": 16,
    "lenType": 16,
    "lenVar": 40
   },
   "kernels_config": {
    "python": {
     "delete_cmd_postfix": "",
     "delete_cmd_prefix": "del ",
     "library": "var_list.py",
     "varRefreshCmd": "print(var_dic_list())"
    },
    "r": {
     "delete_cmd_postfix": ") ",
     "delete_cmd_prefix": "rm(",
     "library": "var_list.r",
     "varRefreshCmd": "cat(var_dic_list()) "
    }
   },
   "types_to_exclude": [
    "module",
    "function",
    "builtin_function_or_method",
    "instance",
    "_Feature"
   ],
   "window_display": false
  }
 },
 "nbformat": 4,
 "nbformat_minor": 4
}
